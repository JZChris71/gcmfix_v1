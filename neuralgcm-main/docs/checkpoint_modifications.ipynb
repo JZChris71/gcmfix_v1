{
  "cells": [
    {
      "cell_type": "markdown",
      "metadata": {
        "id": "LgJeQHs1uZrV"
      },
      "source": [
        "# Checkpoint modifications\n",
        "\n",
        "Checkpoint modifications can be made to include more outputs or change certain aspects of the simulations (e.g., changing filters).\n",
        "\n",
        "Here, we demonstrate how to add an output for surface pressure and how to fix (make constant) the global mean log surface pressure. We found that the global mean surface pressure tends to drift in long integrations when using NeuralGCM, leading to less stable simulations. Fixing the global mean surface pressure increases stability in long integrations. The current reason for the drift in global mean surface pressure in long integrations is likely due to our dynamical core (and not the machine learning component), as we verified that using the dynamical core with orography also results in a drift in the global mean log surface pressure.\n",
        "\n",
        "\n",
        "Steps:\n",
        "1. Change the checkpoint to include surface pressure as an output variable and enforce a constant global mean log surface pressure.\n",
        "2. Run the model and verify that the global mean log surface pressure is kept constant.\n",
        "3. Run the model without fixing the global mean log surface pressure.\n",
        "\n",
        "There are other scenarios where you might want to modify a checkpoint. For example, in this [issue](https://github.com/neuralgcm/neuralgcm/issues/12) we discuss to add a precipitation minus evaporation diagnostic.\n",
        "\n",
        "\n",
        "```{warning}\n",
        "These modified models have not been extensively tested by the NeuralGCM team.\n",
        "```\n",
        "\n",
        "```{tip}\n",
        "You can run this notebook yourself in [Google Colab](https://colab.research.google.com/github/neuralgcm/neuralgcm/blob/main/docs/checkpoint_modifications.ipynb). We recommend using a GPU or TPU runtime due to high memory and compute requirements.\n",
        "```"
      ]
    },
    {
      "cell_type": "code",
      "execution_count": null,
      "metadata": {
        "id": "hwjBVRPIR1ot"
      },
      "outputs": [],
      "source": [
        "# if necessary, install NeuralGCM and dependencies\n",
        "! pip install -q -U neuralgcm gcsfs"
      ]
    },
    {
      "cell_type": "code",
      "execution_count": null,
      "metadata": {
        "id": "do7_irWozluZ"
      },
      "outputs": [],
      "source": [
        "import gcsfs\n",
        "import jax\n",
        "import numpy as np\n",
        "import pickle\n",
        "import xarray\n",
        "\n",
        "from dinosaur import horizontal_interpolation\n",
        "from dinosaur import spherical_harmonic\n",
        "from dinosaur import xarray_utils\n",
        "import neuralgcm\n",
        "\n",
        "gcs = gcsfs.GCSFileSystem(token='anon')"
      ]
    },
    {
      "cell_type": "markdown",
      "metadata": {
        "id": "KvdgI8IafPtO"
      },
      "source": [
        "## Change checkpoint to fix the global mean of log surface pressure\n",
        "\n",
        "```{tip}\n",
        "Only `v1` NeuralGCM models (from the original Nature paper) need this fix: the `v1_precip` models already have it applied.\n",
        "```"
      ]
    },
    {
      "cell_type": "code",
      "execution_count": null,
      "metadata": {
        "id": "ETOS8Y7Rk-fQ"
      },
      "outputs": [],
      "source": [
        "model_name = 'v1/deterministic_2_8_deg.pkl'  # @param ['v1/deterministic_0_7_deg.pkl', 'v1/deterministic_1_4_deg.pkl', 'v1/deterministic_2_8_deg.pkl', 'v1/stochastic_1_4_deg.pkl'] {type: \"string\"}\n",
        "\n",
        "with gcs.open(f'gs://neuralgcm/models/{model_name}', 'rb') as f:\n",
        "  ckpt = pickle.load(f)\n",
        "\n",
        "new_inputs_to_units_mapping = {\n",
        "    'u': 'meter / second',\n",
        "    'v': 'meter / second',\n",
        "    't': 'kelvin',\n",
        "    'z': 'm**2 s**-2',\n",
        "    'sim_time': 'dimensionless',\n",
        "    'tracers': {\n",
        "        'specific_humidity': 'dimensionless',\n",
        "        'specific_cloud_liquid_water_content': 'dimensionless',\n",
        "        'specific_cloud_ice_water_content': 'dimensionless',\n",
        "    },\n",
        "    'diagnostics': {\n",
        "        'surface_pressure': 'kg / (meter s**2)',\n",
        "    },\n",
        "}\n",
        "\n",
        "new_model_config_str = '\\n'.join([\n",
        "    ckpt['model_config_str'],\n",
        "    (\n",
        "        'DimensionalLearnedPrimitiveToWeatherbenchDecoder.inputs_to_units_mapping'\n",
        "        f' = {new_inputs_to_units_mapping}'\n",
        "    ),\n",
        "    (\n",
        "        'DimensionalLearnedPrimitiveToWeatherbenchDecoder.diagnostics_module ='\n",
        "        ' @NodalModelDiagnosticsDecoder'\n",
        "    ),\n",
        "    # Adding a diagnostic of surface pressure. If there are other diagnostics modules\n",
        "    # (e.g., PrecipitationMinusEvaporationDiagnostics) they will be removed.\n",
        "    (\n",
        "        'StochasticPhysicsParameterizationStep.diagnostics_module ='\n",
        "        ' @SurfacePressureDiagnostics'\n",
        "    ),\n",
        "    # Adding FixGlobalMeanFilter which fixes global mean log surface pressure.\n",
        "    (\n",
        "        'dycore/SequentialStepFilter.filter_modules ='\n",
        "        ' (@dycore/ExponentialFilter,@stability/ExponentialFilter,@surface_pressure/FixGlobalMeanFilter)'\n",
        "    ),\n",
        "])\n",
        "ckpt['model_config_str'] = new_model_config_str\n",
        "model = neuralgcm.PressureLevelModel.from_checkpoint(ckpt)"
      ]
    },
    {
      "cell_type": "markdown",
      "metadata": {
        "id": "zToO25Vthle4"
      },
      "source": [
        "### Run model and verify that global mean log surface pressure is kept constant\n"
      ]
    },
    {
      "cell_type": "code",
      "execution_count": null,
      "metadata": {
        "id": "ZIl1L-YLzuFg"
      },
      "outputs": [],
      "source": [
        "era5_path = 'gs://gcp-public-data-arco-era5/ar/full_37-1h-0p25deg-chunk-1.zarr-v3'\n",
        "full_era5 = xarray.open_zarr(\n",
        "    era5_path, chunks=None, storage_options=dict(token='anon')\n",
        ")\n",
        "\n",
        "demo_start_time = '2020-02-14'\n",
        "demo_end_time = '2020-02-16'\n",
        "data_inner_steps = 24  # process every 24th hour\n",
        "\n",
        "sliced_era5 = (\n",
        "    full_era5\n",
        "    [model.input_variables + model.forcing_variables]\n",
        "    .pipe(\n",
        "        xarray_utils.selective_temporal_shift,\n",
        "        variables=model.forcing_variables,\n",
        "        time_shift='24 hours',\n",
        "    )\n",
        "    .sel(time=slice(demo_start_time, demo_end_time, data_inner_steps))\n",
        "    .compute()\n",
        ")"
      ]
    },
    {
      "cell_type": "code",
      "execution_count": null,
      "metadata": {
        "id": "FLhgQg5oz0I_"
      },
      "outputs": [],
      "source": [
        "era5_grid = spherical_harmonic.Grid(\n",
        "    latitude_nodes=full_era5.sizes['latitude'],\n",
        "    longitude_nodes=full_era5.sizes['longitude'],\n",
        "    latitude_spacing=xarray_utils.infer_latitude_spacing(full_era5.latitude),\n",
        "    longitude_offset=xarray_utils.infer_longitude_offset(full_era5.longitude),\n",
        ")\n",
        "regridder = horizontal_interpolation.ConservativeRegridder(\n",
        "    era5_grid, model.data_coords.horizontal, skipna=True\n",
        ")\n",
        "eval_era5 = xarray_utils.regrid(sliced_era5, regridder)\n",
        "eval_era5 = xarray_utils.fill_nan_with_nearest(eval_era5)"
      ]
    },
    {
      "cell_type": "code",
      "execution_count": null,
      "metadata": {
        "id": "91AThK2Pz18l"
      },
      "outputs": [],
      "source": [
        "inner_steps = 1  # save model outputs once every 24 hours\n",
        "outer_steps = 30 * 1 // inner_steps  # total of 30 days\n",
        "timedelta = np.timedelta64(24, 'h') * inner_steps\n",
        "times = (np.arange(outer_steps) * inner_steps)  # time axis in hours\n",
        "\n",
        "# initialize model state\n",
        "inputs = model.inputs_from_xarray(eval_era5.isel(time=0))\n",
        "input_forcings = model.forcings_from_xarray(eval_era5.isel(time=0))\n",
        "rng_key = jax.random.key(42)  # optional for deterministic models\n",
        "initial_state = model.encode(inputs, input_forcings, rng_key)\n",
        "\n",
        "# use persistence for forcing variables (SST and sea ice cover)\n",
        "all_forcings = model.forcings_from_xarray(eval_era5.head(time=1))\n",
        "\n",
        "# make forecast\n",
        "final_state, predictions = model.unroll(\n",
        "    initial_state,\n",
        "    all_forcings,\n",
        "    steps=outer_steps,\n",
        "    timedelta=timedelta,\n",
        "    start_with_input=True,\n",
        ")\n",
        "predictions_ds_fix_lsp = model.data_to_xarray(predictions, times=times)"
      ]
    },
    {
      "cell_type": "code",
      "execution_count": null,
      "metadata": {
        "colab": {
          "base_uri": "https://localhost:8080/"
        },
        "id": "28m6wEmqcAjR",
        "outputId": "590ae6d0-a53e-48f2-869a-a040410ed12f"
      },
      "outputs": [
        {
          "data": {
            "text/plain": [
              "Array([40.756054, 40.75604 , 40.75605 , 40.756035, 40.75604 , 40.756042,\n",
              "       40.756042, 40.756042, 40.756035, 40.75603 , 40.756042, 40.75604 ,\n",
              "       40.756042, 40.756035, 40.75604 , 40.756054, 40.75604 , 40.75605 ,\n",
              "       40.756042, 40.756046, 40.756042, 40.756042, 40.75604 , 40.75605 ,\n",
              "       40.75605 , 40.756046, 40.75604 , 40.756042, 40.756042, 40.756054],      dtype=float32)"
            ]
          },
          "execution_count": 65,
          "metadata": {},
          "output_type": "execute_result"
        }
      ],
      "source": [
        "# to spherical harmonic representation (the 0,0 component is the global mean):\n",
        "log_sp_spherical_harmonics_fix_lsp = model.data_coords.horizontal.to_modal(predictions_ds_fix_lsp.surface_pressure.pipe(np.log))\n",
        "log_sp_spherical_harmonics_fix_lsp[:,0,0]  # Should be almost constant"
      ]
    },
    {
      "cell_type": "markdown",
      "metadata": {
        "id": "lcUY7D3YfGbL"
      },
      "source": [
        "### Run model without fixing the global mean log surface pressure\n",
        "\n",
        "Example: without fixing global mean log surface pressure (still adding surface\n",
        "pressure as an output variable)"
      ]
    },
    {
      "cell_type": "code",
      "execution_count": null,
      "metadata": {
        "id": "m863UvyweLDR"
      },
      "outputs": [],
      "source": [
        "model_name = 'neural_gcm_dynamic_forcing_deterministic_2_8_deg.pkl'  # @param ['neural_gcm_dynamic_forcing_deterministic_0_7_deg.pkl', 'neural_gcm_dynamic_forcing_deterministic_1_4_deg.pkl', 'neural_gcm_dynamic_forcing_deterministic_2_8_deg.pkl', 'neural_gcm_dynamic_forcing_stochastic_1_4_deg.pkl'] {type: \"string\"}\n",
        "\n",
        "with gcs.open(f'gs://gresearch/neuralgcm/04_30_2024/{model_name}', 'rb') as f:\n",
        "  ckpt2 = pickle.load(f)\n",
        "\n",
        "\n",
        "new_inputs_to_units_mapping = {\n",
        "    'u': 'meter / second',\n",
        "    'v': 'meter / second',\n",
        "    't': 'kelvin',\n",
        "    'z': 'm**2 s**-2',\n",
        "    'sim_time': 'dimensionless',\n",
        "    'tracers': {\n",
        "        'specific_humidity': 'dimensionless',\n",
        "        'specific_cloud_liquid_water_content': 'dimensionless',\n",
        "        'specific_cloud_ice_water_content': 'dimensionless',\n",
        "    },\n",
        "    'diagnostics': {'surface_pressure': 'kg / (meter s**2)'},\n",
        "}\n",
        "\n",
        "new_model_config_str = '\\n'.join([\n",
        "    ckpt2['model_config_str'],\n",
        "    (\n",
        "        'DimensionalLearnedPrimitiveToWeatherbenchDecoder.inputs_to_units_mapping'\n",
        "        f' = {new_inputs_to_units_mapping}'\n",
        "    ),\n",
        "    (\n",
        "        'DimensionalLearnedPrimitiveToWeatherbenchDecoder.diagnostics_module ='\n",
        "        ' @NodalModelDiagnosticsDecoder'\n",
        "    ),\n",
        "    (\n",
        "        'StochasticPhysicsParameterizationStep.diagnostics_module ='\n",
        "        ' @SurfacePressureDiagnostics'\n",
        "    ),\n",
        "])\n",
        "ckpt2['model_config_str'] = new_model_config_str\n",
        "model = neuralgcm.PressureLevelModel.from_checkpoint(ckpt2)"
      ]
    },
    {
      "cell_type": "code",
      "execution_count": null,
      "metadata": {
        "id": "f_uHe20vdhsJ"
      },
      "outputs": [],
      "source": [
        "inner_steps = 1  # save model outputs once every 24 hours\n",
        "outer_steps = 30 * 1 // inner_steps  # total of 30 days\n",
        "timedelta = np.timedelta64(24, 'h') * inner_steps\n",
        "times = (np.arange(outer_steps) * inner_steps)  # time axis in hours\n",
        "\n",
        "# initialize model state\n",
        "inputs = model.inputs_from_xarray(eval_era5.isel(time=0))\n",
        "input_forcings = model.forcings_from_xarray(eval_era5.isel(time=0))\n",
        "rng_key = jax.random.key(42)  # optional for deterministic models\n",
        "initial_state = model.encode(inputs, input_forcings, rng_key)\n",
        "\n",
        "# use persistence for forcing variables (SST and sea ice cover)\n",
        "all_forcings = model.forcings_from_xarray(eval_era5.head(time=1))\n",
        "\n",
        "# make forecast\n",
        "final_state, predictions = model.unroll(\n",
        "    initial_state,\n",
        "    all_forcings,\n",
        "    steps=outer_steps,\n",
        "    timedelta=timedelta,\n",
        "    start_with_input=True,\n",
        ")\n",
        "predictions_ds = model.data_to_xarray(predictions, times=times)"
      ]
    },
    {
      "cell_type": "code",
      "execution_count": null,
      "metadata": {
        "colab": {
          "base_uri": "https://localhost:8080/"
        },
        "id": "ban5KYuFeyxP",
        "outputId": "487a3bbd-687a-4654-df2a-90939c226dfb"
      },
      "outputs": [
        {
          "data": {
            "text/plain": [
              "Array([40.756054, 40.756104, 40.75608 , 40.75609 , 40.75613 , 40.75616 ,\n",
              "       40.75618 , 40.75609 , 40.75605 , 40.75599 , 40.755817, 40.755783,\n",
              "       40.755848, 40.75599 , 40.75605 , 40.755997, 40.75583 , 40.75577 ,\n",
              "       40.75577 , 40.75577 , 40.755825, 40.755867, 40.755928, 40.75601 ,\n",
              "       40.756073, 40.756096, 40.75613 , 40.75609 , 40.756104, 40.75614 ],      dtype=float32)"
            ]
          },
          "execution_count": 68,
          "metadata": {},
          "output_type": "execute_result"
        }
      ],
      "source": [
        "#to spherical harmonic representation (the 0,0 component is the global mean):\n",
        "log_sp_spherical_harmonics = model.data_coords.horizontal.to_modal(predictions_ds.surface_pressure.pipe(np.log))\n",
        "log_sp_spherical_harmonics[:,0,0]"
      ]
    },
    {
      "cell_type": "markdown",
      "metadata": {
        "id": "ZG-fQW9fh9Xd"
      },
      "source": [
        "### Compare global mean log surface pressure\n",
        "\n",
        "Global mean log surface pressure now stays mostly fixed in a one-month long integration. The small changes are likely numerical errors."
      ]
    },
    {
      "cell_type": "code",
      "execution_count": null,
      "metadata": {
        "colab": {
          "base_uri": "https://localhost:8080/",
          "height": 445
        },
        "id": "2uB4X0zQgj53",
        "outputId": "d93b16ec-5da8-4a46-84a3-f5e54df4179e"
      },
      "outputs": [
        {
          "data": {
            "image/png": "[encoded data removed]",
            "text/plain": [
              "\u003cFigure size 640x480 with 1 Axes\u003e"
            ]
          },
          "metadata": {},
          "output_type": "display_data"
        }
      ],
      "source": [
        "import matplotlib.pyplot as plt\n",
        "plt.plot(log_sp_spherical_harmonics_fix_lsp[:,0,0], label='Fixed global mean')\n",
        "plt.plot(log_sp_spherical_harmonics[:,0,0], label='No Fix')\n",
        "plt.legend()"
      ]
    }
  ],
  "metadata": {
    "accelerator": "GPU",
    "colab": {
      "gpuType": "T4",
      "last_runtime": {
        "build_target": "//research/simulation/whirl/cfd/notebooks:notebook",
        "kind": "private"
      },
      "provenance": []
    },
    "kernelspec": {
      "display_name": "Python 3",
      "name": "python3"
    },
    "language_info": {
      "name": "python"
    }
  },
  "nbformat": 4,
  "nbformat_minor": 0
}
